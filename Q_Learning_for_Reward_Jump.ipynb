{
  "nbformat": 4,
  "nbformat_minor": 0,
  "metadata": {
    "colab": {
      "name": "1.1. Q-Learning for Reward Jump",
      "version": "0.3.2",
      "provenance": [],
      "collapsed_sections": [],
      "include_colab_link": true
    },
    "kernelspec": {
      "name": "python3",
      "display_name": "Python 3"
    }
  },
  "cells": [
    {
      "cell_type": "markdown",
      "metadata": {
        "id": "view-in-github",
        "colab_type": "text"
      },
      "source": [
        "<a href=\"https://colab.research.google.com/github/WilliamC7879/Q4-Project/blob/master/Q_Learning_for_Reward_Jump.ipynb\" target=\"_parent\"><img src=\"https://colab.research.google.com/assets/colab-badge.svg\" alt=\"Open In Colab\"/></a>"
      ]
    },
    {
      "cell_type": "markdown",
      "metadata": {
        "id": "b_1rInreMEvv",
        "colab_type": "text"
      },
      "source": [
        "Tutorial: https://www.learndatasci.com/tutorials/reinforcement-q-learning-scratch-python-openai-gym/"
      ]
    },
    {
      "cell_type": "code",
      "metadata": {
        "id": "zSBoeI72bIBT",
        "colab_type": "code",
        "colab": {}
      },
      "source": [
        "#import pygame\n",
        "import random\n",
        "\n",
        "import numpy as np\n",
        "from IPython.display import clear_output"
      ],
      "execution_count": 0,
      "outputs": []
    },
    {
      "cell_type": "code",
      "metadata": {
        "id": "R19S1xjjbI6d",
        "colab_type": "code",
        "colab": {}
      },
      "source": [
        "radius = 20\n",
        "x = 250\n",
        "y = 700 - radius\n",
        "ySpeed = 20\n",
        "jumping = False #for sprite\n",
        "falling = False\n",
        "vel = 5\n",
        "#jumplist = 0\n",
        "points = 0"
      ],
      "execution_count": 0,
      "outputs": []
    },
    {
      "cell_type": "code",
      "metadata": {
        "colab_type": "code",
        "id": "oW9FfNlrtvvN",
        "colab": {}
      },
      "source": [
        "# -- Q-Learning -- #\n",
        "# Hyperparameters\n",
        "alpha = 0.1 # learning rate\n",
        "gamma = 0.6 # discount factor\n",
        "epsilon = 0.1 # random\n",
        "\n",
        "q_table = np.zeros([700, 2]) # 700 pixels, 2 actions (jump, no jump)\n",
        "state = y\n",
        "\n",
        "num_frames = 100000\n",
        "for i in range(1, num_frames+1):\n",
        "    \n",
        "    if random.uniform(0, 1) < epsilon:\n",
        "        if np.random.random() < 0.5:\n",
        "            action = 0\n",
        "        else:\n",
        "            action = 1\n",
        "    else:\n",
        "        action = np.argmax(q_table[state])\n",
        "\n",
        "    next_state, reward = 0,0\n",
        "\n",
        "    if action == 0: # 0 = jump, 1 = no jump\n",
        "        ySpeed = int(ySpeed + 15)#jumplist/2)\n",
        "        jump = True\n",
        "        if (y < 700 and y > 660):\n",
        "            reward = 3\n",
        "        if (y < 660 and y > 580):\n",
        "            reward = 2\n",
        "        if (y < 580 and y > 460):\n",
        "            reward = 1\n",
        "        if(y < 460):\n",
        "            reward = -1\n",
        "        #if (y == 700 - radius):\n",
        "        #    reward = -5\n",
        "\n",
        "\n",
        "    y = y - ySpeed\n",
        "    ySpeed = ySpeed - 1\n",
        "    \n",
        "    # if the y position is off the screen on the bottom\n",
        "    if (y > 700 - radius):\n",
        "        ySpeed = 0\n",
        "        y = 700 - radius\n",
        "\n",
        "    if (y < 0 + radius):\n",
        "        ySpeed = 0\n",
        "        y = 1 + radius\n",
        "    \n",
        "    \n",
        "    next_state = y\n",
        "    #print(action, next_state, reward)\n",
        "    \n",
        "    # Calculate values for Q-value equation\n",
        "    old_value = q_table[state, action]\n",
        "    next_max = np.max(q_table[next_state])\n",
        "    \n",
        "    \n",
        "    # Calculate updated q-value\n",
        "    new_value = (1 - alpha) * old_value + alpha * (reward + gamma * next_max)\n",
        "    q_table[state, action] = new_value\n",
        "    \n",
        "    #print(state, action)\n",
        "    #print(q_table[state, action], end='\\n\\n')\n",
        "    \n",
        "    state = next_state"
      ],
      "execution_count": 0,
      "outputs": []
    },
    {
      "cell_type": "code",
      "metadata": {
        "id": "aoPx5AjuGTxy",
        "colab_type": "code",
        "colab": {
          "base_uri": "https://localhost:8080/",
          "height": 34
        },
        "outputId": "5cbd93f9-e177-4389-c722-56e88142ad59"
      },
      "source": [
        "q_table[22]"
      ],
      "execution_count": 41,
      "outputs": [
        {
          "output_type": "execute_result",
          "data": {
            "text/plain": [
              "array([-9.99978485e-01,  1.86364938e-10])"
            ]
          },
          "metadata": {
            "tags": []
          },
          "execution_count": 41
        }
      ]
    },
    {
      "cell_type": "code",
      "metadata": {
        "id": "hv4-D8poE56C",
        "colab_type": "code",
        "colab": {
          "base_uri": "https://localhost:8080/",
          "height": 901
        },
        "outputId": "c0f3084c-15a5-4c6d-ba22-4460f6cb7c21"
      },
      "source": [
        "np.nonzero(q_table)"
      ],
      "execution_count": 39,
      "outputs": [
        {
          "output_type": "execute_result",
          "data": {
            "text/plain": [
              "(array([ 21,  21,  22,  22,  24,  24,  27,  27,  31,  31,  34,  34,  36,\n",
              "         36,  37,  37,  38,  39,  39,  42,  42,  46,  46,  49,  49,  51,\n",
              "         51,  52,  52,  54,  54,  57,  57,  61,  61,  64,  64,  66,  66,\n",
              "         67,  67,  69,  69,  72,  72,  76,  76,  79,  79,  81,  81,  82,\n",
              "         82,  84,  84,  87,  87,  91,  91,  94,  94,  96,  96,  97,  97,\n",
              "         99,  99, 102, 102, 106, 106, 109, 109, 111, 111, 112, 112, 114,\n",
              "        114, 117, 117, 121, 121, 124, 124, 126, 126, 127, 127, 129, 129,\n",
              "        132, 132, 136, 136, 139, 139, 141, 141, 142, 142, 144, 144, 147,\n",
              "        147, 151, 151, 154, 154, 156, 156, 157, 157, 159, 159, 162, 162,\n",
              "        166, 166, 169, 169, 171, 171, 172, 172, 174, 174, 177, 177, 181,\n",
              "        181, 184, 184, 186, 186, 187, 187, 189, 189, 192, 192, 196, 196,\n",
              "        199, 199, 201, 201, 202, 202, 204, 204, 207, 207, 211, 211, 214,\n",
              "        214, 216, 216, 217, 217, 219, 219, 222, 222, 226, 226, 229, 229,\n",
              "        231, 231, 232, 232, 234, 234, 237, 237, 241, 241, 244, 244, 246,\n",
              "        246, 247, 247, 249, 249, 252, 252, 256, 256, 259, 259, 261, 261,\n",
              "        262, 262, 264, 264, 267, 267, 271, 271, 274, 274, 276, 276, 277,\n",
              "        277, 279, 279, 282, 282, 286, 286, 289, 289, 291, 291, 292, 292,\n",
              "        294, 294, 297, 297, 301, 301, 304, 304, 306, 306, 307, 307, 309,\n",
              "        309, 312, 312, 316, 316, 319, 319, 321, 321, 322, 322, 324, 324,\n",
              "        327, 327, 331, 331, 334, 334, 336, 336, 337, 337, 339, 339, 342,\n",
              "        342, 346, 346, 349, 349, 351, 351, 352, 352, 354, 354, 357, 357,\n",
              "        361, 361, 364, 364, 365, 366, 366, 367, 367, 369, 369, 372, 372,\n",
              "        376, 376, 379, 379, 381, 381, 382, 382, 384, 384, 387, 387, 391,\n",
              "        391, 394, 394, 396, 396, 397, 397, 399, 399, 402, 402, 406, 406,\n",
              "        409, 409, 411, 411, 412, 412, 414, 414, 417, 417, 421, 421, 424,\n",
              "        424, 426, 426, 427, 427, 429, 429, 432, 432, 436, 436, 439, 439,\n",
              "        441, 441, 442, 442, 444, 444, 447, 447, 451, 451, 454, 454, 456,\n",
              "        456, 457, 457, 459, 459, 462, 462, 466, 466, 469, 469, 471, 471,\n",
              "        472, 472, 474, 474, 477, 477, 481, 481, 484, 484, 486, 486, 487,\n",
              "        487, 489, 489, 492, 492, 496, 496, 499, 501, 501, 502, 502, 504,\n",
              "        504, 507, 507, 511, 511, 516, 517, 519, 519, 522, 526, 531, 533,\n",
              "        534, 537, 541, 546, 549, 556, 561, 562, 564, 567, 571, 596, 645,\n",
              "        680]),\n",
              " array([0, 1, 0, 1, 0, 1, 0, 1, 0, 1, 0, 1, 0, 1, 0, 1, 0, 0, 1, 0, 1, 0,\n",
              "        1, 0, 1, 0, 1, 0, 1, 0, 1, 0, 1, 0, 1, 0, 1, 0, 1, 0, 1, 0, 1, 0,\n",
              "        1, 0, 1, 0, 1, 0, 1, 0, 1, 0, 1, 0, 1, 0, 1, 0, 1, 0, 1, 0, 1, 0,\n",
              "        1, 0, 1, 0, 1, 0, 1, 0, 1, 0, 1, 0, 1, 0, 1, 0, 1, 0, 1, 0, 1, 0,\n",
              "        1, 0, 1, 0, 1, 0, 1, 0, 1, 0, 1, 0, 1, 0, 1, 0, 1, 0, 1, 0, 1, 0,\n",
              "        1, 0, 1, 0, 1, 0, 1, 0, 1, 0, 1, 0, 1, 0, 1, 0, 1, 0, 1, 0, 1, 0,\n",
              "        1, 0, 1, 0, 1, 0, 1, 0, 1, 0, 1, 0, 1, 0, 1, 0, 1, 0, 1, 0, 1, 0,\n",
              "        1, 0, 1, 0, 1, 0, 1, 0, 1, 0, 1, 0, 1, 0, 1, 0, 1, 0, 1, 0, 1, 0,\n",
              "        1, 0, 1, 0, 1, 0, 1, 0, 1, 0, 1, 0, 1, 0, 1, 0, 1, 0, 1, 0, 1, 0,\n",
              "        1, 0, 1, 0, 1, 0, 1, 0, 1, 0, 1, 0, 1, 0, 1, 0, 1, 0, 1, 0, 1, 0,\n",
              "        1, 0, 1, 0, 1, 0, 1, 0, 1, 0, 1, 0, 1, 0, 1, 0, 1, 0, 1, 0, 1, 0,\n",
              "        1, 0, 1, 0, 1, 0, 1, 0, 1, 0, 1, 0, 1, 0, 1, 0, 1, 0, 1, 0, 1, 0,\n",
              "        1, 0, 1, 0, 1, 0, 1, 0, 1, 0, 1, 0, 1, 0, 0, 1, 0, 1, 0, 1, 0, 1,\n",
              "        0, 1, 0, 1, 0, 1, 0, 1, 0, 1, 0, 1, 0, 1, 0, 1, 0, 1, 0, 1, 0, 1,\n",
              "        0, 1, 0, 1, 0, 1, 0, 1, 0, 1, 0, 1, 0, 1, 0, 1, 0, 1, 0, 1, 0, 1,\n",
              "        0, 1, 0, 1, 0, 1, 0, 1, 0, 1, 0, 1, 0, 1, 0, 1, 0, 1, 0, 1, 0, 1,\n",
              "        0, 1, 0, 1, 0, 1, 0, 1, 0, 1, 0, 1, 0, 1, 0, 1, 0, 1, 0, 1, 0, 1,\n",
              "        0, 1, 0, 1, 0, 1, 0, 1, 0, 1, 0, 0, 1, 0, 1, 0, 1, 0, 1, 0, 1, 0,\n",
              "        0, 0, 1, 0, 0, 0, 0, 0, 0, 0, 0, 0, 0, 0, 0, 1, 0, 0, 0, 0, 0]))"
            ]
          },
          "metadata": {
            "tags": []
          },
          "execution_count": 39
        }
      ]
    },
    {
      "cell_type": "code",
      "metadata": {
        "id": "CSBe6a7vW_f1",
        "colab_type": "code",
        "colab": {}
      },
      "source": [
        "# -- PyGame -- #\n",
        "pygame.init()\n",
        "\n",
        "win = pygame.display.set_mode((500,700))\n",
        "\n",
        "pygame.display.set_caption(\"tutorial follow along\")\n",
        "\n",
        "font = pygame.font.SysFont('comicsans', 30, True)\n",
        "\n",
        "\n",
        "run = True\n",
        "\n",
        "while run:\n",
        "    pygame.time.delay(100) #100 miliseconds\n",
        "    \n",
        "    action = np.argmax(q_table[state])\n",
        "    \n",
        "    for event in pygame.event.get():\n",
        "        if event.type == pygame.QUIT:\n",
        "            run = False\n",
        "        if action == 0: #jump\n",
        "            #jumplist += 1\n",
        "            ySpeed = int(ySpeed + 15)#jumplist/2)\n",
        "            jump = True\n",
        "            if (y < 700 and y > 660):\n",
        "                points += 3\n",
        "            if (y < 660 and y > 580):\n",
        "                points += 2\n",
        "            if (y < 580 and y > 460):\n",
        "                points += 1\n",
        "            if(y < 460 ):\n",
        "                points -= 1\n",
        "            if (y == 700 - radius):\n",
        "                    points = 0\n",
        "\n",
        "    \n",
        "    \n",
        "    pygame.draw.circle(win, (125, 125, 125), (250, 250), 500)\n",
        "    pygame.draw.rect(win, (225,0,0), (0,660,500,40))\n",
        "    pygame.draw.rect(win, (225,225,0),(0,580,500,80))\n",
        "    pygame.draw.rect(win,(0,225,0), (0,460,500,120))\n",
        "    pygame.draw.rect(win,(0,0,0), (0,0,500,460))\n",
        "    pygame.draw.circle(win, (125,0, 250),(x,y),radius)\n",
        "    text = font.render('POINTS: ' + str(points), 1, (255, 0, 0))\n",
        "\n",
        "    win.blit(text, (250 - (text.get_width()/2), 200))\n",
        "\n",
        "\n",
        "    y = y - ySpeed\n",
        "    ySpeed = ySpeed - 1\n",
        "    pygame.display.update()\n",
        "    \n",
        "    # if the y position is off the screen on the bottom\n",
        "    if (y > 700 - radius):\n",
        "        ySpeed = 0\n",
        "        y = 700 - radius\n",
        "\n",
        "    if (y < 0 + radius):\n",
        "        ySpeed = 0\n",
        "        y = 1 + radius\n",
        "\n",
        "pygame.quit()"
      ],
      "execution_count": 0,
      "outputs": []
    },
    {
      "cell_type": "code",
      "metadata": {
        "id": "djK3PsyqEp-L",
        "colab_type": "code",
        "colab": {}
      },
      "source": [
        ""
      ],
      "execution_count": 0,
      "outputs": []
    }
  ]
}